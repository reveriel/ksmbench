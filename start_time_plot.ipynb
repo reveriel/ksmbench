{
 "cells": [
  {
   "cell_type": "code",
   "execution_count": 6,
   "metadata": {
    "collapsed": true
   },
   "outputs": [],
   "source": [
    "# process files collected by bench.sh\n",
    "import csv\n",
    "import matplotlib.pyplot as plt\n",
    "import numpy as np\n",
    "\n",
    "\n",
    "time_file = \"times.txt\"\n",
    "cpu_file = \"cpu.txt\"\n",
    "sharing_file = \"sharing.txt\"\n",
    "\n"
   ]
  },
  {
   "cell_type": "code",
   "execution_count": 7,
   "metadata": {
    "collapsed": true
   },
   "outputs": [],
   "source": [
    "time_data = np.genfromtxt(time_file, delimiter=',', dtype='i8')\n",
    "cpu_data = np.genfromtxt(cpu_file)\n",
    "sharing_data = np.genfromtxt(sharing_file, dtype='int16')"
   ]
  },
  {
   "cell_type": "code",
   "execution_count": 8,
   "metadata": {
    "collapsed": true
   },
   "outputs": [],
   "source": [
    "def avg(x):\n",
    "    return sum(x) / len(x)"
   ]
  },
  {
   "cell_type": "code",
   "execution_count": 9,
   "metadata": {},
   "outputs": [
    {
     "name": "stdout",
     "output_type": "stream",
     "text": [
      "[2417.29, 1823.3, 681.59, 2314.88, 1515.68]\n"
     ]
    }
   ],
   "source": [
    "# app time data\n",
    "atd = [[x[1] for x in time_data if x[0] == y] for y in range(5)]\n",
    "atd = [avg(x) for x in atd]\n",
    "\n",
    "plt.bar(range(len(atd)), atd)\n",
    "plt.xlabel('apps')\n",
    "plt.ylabel('start time')\n",
    "#plt.show()\n",
    "print([round(x, 2) for x in atd])\n"
   ]
  },
  {
   "cell_type": "code",
   "execution_count": 10,
   "metadata": {},
   "outputs": [
    {
     "name": "stdout",
     "output_type": "stream",
     "text": [
      "avg =  10.182122905027924\n"
     ]
    }
   ],
   "source": [
    "plt.plot(cpu_data, label='%cpu')\n",
    "avg_value = avg(cpu_data)\n",
    "plt.plot(range(len(cpu_data)),\n",
    "         np.repeat(avg_value, len(cpu_data)))\n",
    "plt.xlabel('time/s')\n",
    "plt.ylabel('%cpu')\n",
    "#plt.show()\n",
    "print(\"avg = \", avg_value)"
   ]
  },
  {
   "cell_type": "code",
   "execution_count": 11,
   "metadata": {},
   "outputs": [
    {
     "name": "stdout",
     "output_type": "stream",
     "text": [
      "avg =  3715.3882978723404\n"
     ]
    }
   ],
   "source": [
    "plt.plot(sharing_data)\n",
    "avg_value = avg(sharing_data)\n",
    "plt.plot(range(len(sharing_data)),\n",
    "         np.repeat(avg_value, len(sharing_data)))\n",
    "plt.xlabel('time/s')\n",
    "plt.ylabel('#sharing pages')\n",
    "#plt.show()\n",
    "print(\"avg = \", avg_value)"
   ]
  },
  {
   "cell_type": "code",
   "execution_count": null,
   "metadata": {
    "collapsed": true
   },
   "outputs": [],
   "source": []
  }
 ],
 "metadata": {
  "kernelspec": {
   "display_name": "Python 3",
   "language": "python",
   "name": "python3"
  },
  "language_info": {
   "codemirror_mode": {
    "name": "ipython",
    "version": 3
   },
   "file_extension": ".py",
   "mimetype": "text/x-python",
   "name": "python",
   "nbconvert_exporter": "python",
   "pygments_lexer": "ipython3",
   "version": "3.6.1"
  }
 },
 "nbformat": 4,
 "nbformat_minor": 2
}
