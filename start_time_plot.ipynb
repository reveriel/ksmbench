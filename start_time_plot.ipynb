{
 "cells": [
  {
   "cell_type": "code",
   "execution_count": 8,
   "metadata": {
    "collapsed": true
   },
   "outputs": [],
   "source": [
    "# process files collected by bench.sh\n",
    "\n",
    "time_file = \"times.txt\"\n",
    "cpu_file = \"cpu.txt\"\n",
    "sharing_file = \"sharing.txt\"\n",
    "\n",
    "import csv"
   ]
  },
  {
   "cell_type": "code",
   "execution_count": 9,
   "metadata": {},
   "outputs": [
    {
     "name": "stdout",
     "output_type": "stream",
     "text": [
      "Processed 0 lines.\n"
     ]
    }
   ],
   "source": [
    "with open ('times.txt') as csv_file:\n",
    "    csv_reader = csv.reader(csv_file, delimiter=\" \")\n",
    "    line_count = 0\n",
    "    for row in csv_reader:\n",
    "        print(f'\\t{row[0]} and {row[2]}')\n",
    "        \n",
    "        line_count += 1\n",
    "    print(f'Processed {line_count} lines.')"
   ]
  },
  {
   "cell_type": "code",
   "execution_count": null,
   "metadata": {
    "collapsed": true
   },
   "outputs": [],
   "source": []
  }
 ],
 "metadata": {
  "kernelspec": {
   "display_name": "Python 3",
   "language": "python",
   "name": "python3"
  },
  "language_info": {
   "codemirror_mode": {
    "name": "ipython",
    "version": 3
   },
   "file_extension": ".py",
   "mimetype": "text/x-python",
   "name": "python",
   "nbconvert_exporter": "python",
   "pygments_lexer": "ipython3",
   "version": "3.6.1"
  }
 },
 "nbformat": 4,
 "nbformat_minor": 2
}
